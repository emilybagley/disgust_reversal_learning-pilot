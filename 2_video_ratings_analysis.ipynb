{
 "cells": [
  {
   "cell_type": "code",
   "execution_count": 1,
   "metadata": {},
   "outputs": [],
   "source": [
    "import numpy as np\n",
    "import pandas as pd\n",
    "import matplotlib.pyplot as plt\n",
    "import seaborn as sns\n",
    "import scipy.stats as stats\n",
    "import jsonlines\n",
    "from functools import reduce\n",
    "import statistics\n",
    "import scipy.stats\n",
    "import seaborn as sns\n",
    "import math\n",
    "import os\n",
    "import json\n",
    "import ast\n",
    "import matplotlib.patches as mpatches\n",
    "import statsmodels.api as sm\n",
    "import statsmodels.formula.api as smf\n",
    "from numpy import std, mean, sqrt\n",
    "pd.options.mode.copy_on_write = True"
   ]
  },
  {
   "cell_type": "code",
   "execution_count": 4,
   "metadata": {},
   "outputs": [],
   "source": [
    "chosen_stim_df = pd.read_csv(\"csvs/chosen_stim_excluded.csv\")\n",
    "chosen_stim_df.drop('Unnamed: 0', axis=\"columns\", inplace=True)"
   ]
  },
  {
   "cell_type": "code",
   "execution_count": 5,
   "metadata": {},
   "outputs": [],
   "source": [
    "def cohen_d(x,y):\n",
    "    nx=len(x)\n",
    "    ny=len(y)\n",
    "    dof=nx+ny-2\n",
    "    return  (mean(x) - mean(y)) / sqrt(((nx-1)*std(x, ddof=1) ** 2 + (ny-1)*std(y, ddof=1) ** 2) / dof)"
   ]
  },
  {
   "cell_type": "code",
   "execution_count": 6,
   "metadata": {},
   "outputs": [
    {
     "name": "stdout",
     "output_type": "stream",
     "text": [
      "VALENCE: t= -0.1613743060919757, p= 0.8750123557559144, df= 10\n",
      "ConfidenceInterval(low=np.float64(-1.3461155878833337), high=np.float64(1.164297406065152)) Cohen's d=-0.05046259143869273\n",
      "AROUSAL: t= -0.6142951168339512, p= 0.5527388731075369, df= 10\n",
      "ConfidenceInterval(low=np.float64(-0.8412995024424872), high=np.float64(0.4776631388061235)) Cohen's d=-0.07197225284792168\n",
      "DISGUST: t= 4.011843779479569, p= 0.002470701220033965, df= 10\n",
      "ConfidenceInterval(low=np.float64(1.6976009280503845), high=np.float64(5.938762708313252)) Cohen's d=1.5402087980121106\n",
      "FEAR: t= -6.148595982672754, p= 0.00010852203170107653, df= 10\n",
      "ConfidenceInterval(low=np.float64(-6.316497113848797), high=np.float64(-2.9562301588784763)) Cohen's d=-2.2672265448193745\n"
     ]
    }
   ],
   "source": [
    "disgust_unpleasant=chosen_stim_df[chosen_stim_df.trial_type==\"disgust\"].unpleasant_2\n",
    "fear_unpleasant=chosen_stim_df[chosen_stim_df.trial_type==\"fear\"].unpleasant_2\n",
    "disgust_arousal=chosen_stim_df[chosen_stim_df.trial_type==\"disgust\"].arousing_2\n",
    "fear_arousal=chosen_stim_df[chosen_stim_df.trial_type==\"fear\"].arousing_2\n",
    "disgust_disgusting=chosen_stim_df[chosen_stim_df.trial_type==\"disgust\"].disgusting_2\n",
    "fear_disgusting=chosen_stim_df[chosen_stim_df.trial_type==\"fear\"].disgusting_2\n",
    "disgust_frightening=chosen_stim_df[chosen_stim_df.trial_type==\"disgust\"].frightening_2\n",
    "fear_frightening=chosen_stim_df[chosen_stim_df.trial_type==\"fear\"].frightening_2\n",
    "\n",
    "[valence_t, valence_p]=scipy.stats.ttest_rel(disgust_unpleasant, fear_unpleasant)\n",
    "print(\"VALENCE: t= \" +str(valence_t)+\", p= \"+str(valence_p)+\", df= \"+str(scipy.stats.ttest_rel(disgust_unpleasant, fear_unpleasant).df))\n",
    "valence_CI=scipy.stats.ttest_rel(disgust_unpleasant, fear_unpleasant).confidence_interval(confidence_level=0.95)\n",
    "valence_cohen=cohen_d(disgust_unpleasant, fear_unpleasant)\n",
    "print(str(valence_CI)+\" Cohen's d=\" +str(valence_cohen))\n",
    "\n",
    "[arousal_t, arousal_p]=scipy.stats.ttest_rel(disgust_arousal, fear_arousal)\n",
    "print(\"AROUSAL: t= \" +str(arousal_t)+\", p= \"+str(arousal_p)+\", df= \"+str(scipy.stats.ttest_rel(disgust_arousal, fear_arousal).df))\n",
    "arousal_CI=scipy.stats.ttest_rel(disgust_arousal, fear_arousal).confidence_interval(confidence_level=0.95)\n",
    "arousal_cohen=cohen_d(disgust_arousal, fear_arousal)\n",
    "print(str(arousal_CI)+\" Cohen's d=\" +str(arousal_cohen))\n",
    "\n",
    "[disgusting_t, disgusting_p]=scipy.stats.ttest_rel(disgust_disgusting, fear_disgusting)\n",
    "print(\"DISGUST: t= \" +str(disgusting_t)+\", p= \"+str(disgusting_p)+\", df= \"+str(scipy.stats.ttest_rel(disgust_disgusting, fear_disgusting).df))\n",
    "disgusting_CI=scipy.stats.ttest_rel(disgust_disgusting, fear_disgusting).confidence_interval(confidence_level=0.95)\n",
    "disgusting_cohen=cohen_d(disgust_disgusting, fear_disgusting)\n",
    "print(str(disgusting_CI)+\" Cohen's d=\" +str(disgusting_cohen))\n",
    "\n",
    "[frightening_t, frightening_p]=scipy.stats.ttest_rel(disgust_frightening, fear_frightening)\n",
    "print(\"FEAR: t= \" +str(frightening_t)+\", p= \"+str(frightening_p)+\", df= \"+str(scipy.stats.ttest_rel(disgust_frightening, fear_frightening).df))\n",
    "frightening_CI=scipy.stats.ttest_rel(disgust_frightening, fear_frightening).confidence_interval(confidence_level=0.95)\n",
    "frightening_cohen=cohen_d(disgust_frightening, fear_frightening)\n",
    "print(str(frightening_CI)+\" Cohen's d=\" +str(frightening_cohen))"
   ]
  }
 ],
 "metadata": {
  "interpreter": {
   "hash": "476289ed3adac44be68f6cf1f3680ae3ecb7c867da70e0d21bb4773b3c910d4c"
  },
  "kernelspec": {
   "display_name": "Python 3.12.1 ('reversal_learning_venv')",
   "language": "python",
   "name": "python3"
  },
  "language_info": {
   "codemirror_mode": {
    "name": "ipython",
    "version": 3
   },
   "file_extension": ".py",
   "mimetype": "text/x-python",
   "name": "python",
   "nbconvert_exporter": "python",
   "pygments_lexer": "ipython3",
   "version": "3.12.1"
  },
  "orig_nbformat": 4
 },
 "nbformat": 4,
 "nbformat_minor": 2
}
